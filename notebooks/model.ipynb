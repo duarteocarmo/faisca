{
 "cells": [
  {
   "cell_type": "code",
   "execution_count": 17,
   "id": "dbd8fa33",
   "metadata": {},
   "outputs": [],
   "source": [
    "import mlx\n",
    "import jupyter_black\n",
    "from types import SimpleNamespace\n",
    "import mlx.nn as nn\n",
    "\n",
    "jupyter_black.load()"
   ]
  },
  {
   "cell_type": "code",
   "execution_count": 18,
   "id": "0a1f2b86",
   "metadata": {},
   "outputs": [
    {
     "name": "stdout",
     "output_type": "stream",
     "text": [
      "Vocab: ['\\n', ' ', '!', '\"', '$', '%', \"'\", '(', ')', '*', ',', '-', '.', '/', '0', '1', '2', '3', '4', '5', '6', '7', '8', '9', ':', ';', '?', '@', 'A', 'B', 'C', 'D', 'E', 'F', 'G', 'H', 'I', 'J', 'K', 'L', 'M', 'N', 'O', 'P', 'Q', 'R', 'S', 'T', 'U', 'V', 'W', 'X', 'Y', 'Z', '[', ']', '_', 'a', 'b', 'c', 'd', 'e', 'f', 'g', 'h', 'i', 'j', 'k', 'l', 'm', 'n', 'o', 'p', 'q', 'r', 's', 't', 'u', 'v', 'w', 'x', 'y', 'z', 'Á', 'Ã', 'Æ', 'Ó', 'á', 'â', 'ã', 'ç', 'é', 'ê', 'í', 'î', 'ó', 'ô', 'õ', 'ú']\n",
      "Vocab size: 99\n"
     ]
    }
   ],
   "source": [
    "with open(\"bocage.txt\", \"r\", encoding=\"ISO-8859-1\") as f:\n",
    "    text = f.read()\n",
    "\n",
    "vocab = sorted(list(set(text)))\n",
    "vocab_size = len(vocab)\n",
    "\n",
    "print(f\"Vocab: {vocab}\")\n",
    "print(f\"Vocab size: {vocab_size}\")"
   ]
  },
  {
   "cell_type": "code",
   "execution_count": 19,
   "id": "1747ecc9",
   "metadata": {},
   "outputs": [
    {
     "name": "stdout",
     "output_type": "stream",
     "text": [
      "Encoded: [36, 75, 76, 71, 1, 91, 1, 77, 69, 1, 76, 61, 75, 76, 61]\n",
      "Decoded: Isto é um teste\n"
     ]
    }
   ],
   "source": [
    "id_to_char = {i: c for i, c in enumerate(vocab)}\n",
    "char_to_id = {c: i for i, c in enumerate(vocab)}\n",
    "\n",
    "\n",
    "def encode(s: str) -> list[int]:\n",
    "    return [char_to_id[c] for c in s]\n",
    "\n",
    "\n",
    "def decode(ids: list[int]) -> str:\n",
    "    return \"\".join([id_to_char[i] for i in ids])\n",
    "\n",
    "\n",
    "text = \"Isto é um teste\"\n",
    "print(f\"Encoded: {encode(text)}\")\n",
    "print(f\"Decoded: {decode(encode(text))}\")"
   ]
  },
  {
   "cell_type": "code",
   "execution_count": 20,
   "id": "cd184a24",
   "metadata": {},
   "outputs": [],
   "source": [
    "class GPT(nn.Module):\n",
    "    def __init__(\n",
    "        self,\n",
    "        vocab_size: int,\n",
    "        d_model: int,\n",
    "        n_layers: int,\n",
    "        n_heads: int,\n",
    "        d_head: int,\n",
    "        d_ff: int,\n",
    "        dropout: float,\n",
    "    ):\n",
    "        super().__init__()\n",
    "        self.vocab_size = vocab_size"
   ]
  },
  {
   "cell_type": "code",
   "execution_count": null,
   "id": "95d97ce7",
   "metadata": {},
   "outputs": [],
   "source": []
  },
  {
   "cell_type": "code",
   "execution_count": null,
   "id": "46831c47",
   "metadata": {},
   "outputs": [],
   "source": []
  }
 ],
 "metadata": {
  "kernelspec": {
   "display_name": ".venv",
   "language": "python",
   "name": "python3"
  },
  "language_info": {
   "codemirror_mode": {
    "name": "ipython",
    "version": 3
   },
   "file_extension": ".py",
   "mimetype": "text/x-python",
   "name": "python",
   "nbconvert_exporter": "python",
   "pygments_lexer": "ipython3",
   "version": "3.12.6"
  }
 },
 "nbformat": 4,
 "nbformat_minor": 5
}
